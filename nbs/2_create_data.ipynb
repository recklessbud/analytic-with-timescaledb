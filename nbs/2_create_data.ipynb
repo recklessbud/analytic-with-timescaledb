{
 "cells": [
  {
   "cell_type": "code",
   "execution_count": 1,
   "id": "7353c753",
   "metadata": {},
   "outputs": [
    {
     "data": {
      "text/plain": [
       "'http://localhost:8003/api/events'"
      ]
     },
     "execution_count": 1,
     "metadata": {},
     "output_type": "execute_result"
    }
   ],
   "source": [
    "import requests\n",
    "path = '/api/events'\n",
    "base_url = 'http://localhost:8003'\n",
    "url = f'{base_url}{path}'\n",
    "url"
   ]
  },
  {
   "cell_type": "code",
   "execution_count": 2,
   "id": "4daf410d",
   "metadata": {},
   "outputs": [
    {
     "name": "stdout",
     "output_type": "stream",
     "text": [
      "{'date': 'Thu, 31 Jul 2025 21:29:21 GMT', 'server': 'uvicorn', 'content-length': '82', 'content-type': 'application/json'}\n",
      "False\n"
     ]
    }
   ],
   "source": [
    "response = requests.post(url)\n",
    "print(response.headers)\n",
    "print(response.ok)"
   ]
  },
  {
   "cell_type": "code",
   "execution_count": 3,
   "id": "c6bc7874",
   "metadata": {},
   "outputs": [],
   "source": [
    "if response.ok:\n",
    "    data = response.json()\n",
    "    print(data)"
   ]
  }
 ],
 "metadata": {
  "kernelspec": {
   "display_name": ".venv",
   "language": "python",
   "name": "python3"
  },
  "language_info": {
   "codemirror_mode": {
    "name": "ipython",
    "version": 3
   },
   "file_extension": ".py",
   "mimetype": "text/x-python",
   "name": "python",
   "nbconvert_exporter": "python",
   "pygments_lexer": "ipython3",
   "version": "3.13.5"
  }
 },
 "nbformat": 4,
 "nbformat_minor": 5
}
